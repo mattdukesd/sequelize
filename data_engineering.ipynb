{
 "cells": [
  {
   "cell_type": "code",
   "execution_count": null,
   "metadata": {
    "collapsed": true
   },
   "outputs": [],
   "source": [
    "import pandas as pd\n",
    "import numpy as np\n",
    "\n",
    "measurements_df = pd.read_csv(\"raw_data/hawaii_measurements.csv\")\n",
    "stations_df = pd.read_csv(\"raw_data/hawaii_stations.csv\")\n",
    "\n",
    "measurements_df.head()\n",
    "\n",
    "\n",
    "stations_df.head()\n",
    "\n",
    "measurements_df[pd.isnull(measurements_df).any(axis=1)]\n",
    "\n",
    "len(measurements_df)\n",
    "####about 7.5% of the precipition data is NaN, dates are missing, no temp data missing\n",
    "\n",
    "stations_df[pd.isnull(stations_df).any(axis=1)]\n",
    "\n",
    "#no data missing in station file\n",
    "measurements_df.to_csv(\"clean_measurements.csv\", index = False)\n",
    "\n",
    "stations_df.to_csv(\"clean_stations.csv\", index = False)"
   ]
  }
 ],
 "metadata": {
  "kernelspec": {
   "display_name": "Python 3",
   "language": "python",
   "name": "python3"
  },
  "language_info": {
   "codemirror_mode": {
    "name": "ipython",
    "version": 3
   },
   "file_extension": ".py",
   "mimetype": "text/x-python",
   "name": "python",
   "nbconvert_exporter": "python",
   "pygments_lexer": "ipython3",
   "version": "3.6.1"
  }
 },
 "nbformat": 4,
 "nbformat_minor": 2
}
