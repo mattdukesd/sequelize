{
 "cells": [
  {
   "cell_type": "code",
   "execution_count": null,
   "metadata": {
    "collapsed": true
   },
   "outputs": [],
   "source": [
    "import pandas as pd\n",
    "\n",
    "# read in cleaned csvs\n",
    "measurements_df = pd.read_csv('clean_measurements.csv')\n",
    "stations_df = pd.read_csv('clean_stations.csv')\n",
    "\n",
    "# schalchemy dependencies\n",
    "from sqlalchemy import create_engine\n",
    "from sqlalchemy.ext.declarative import declarative_base\n",
    "\n",
    "# create base\n",
    "Base = declarative_base()\n",
    "\n",
    "#data types from scqalchemy\n",
    "from sqlalchemy import Column, Integer, String, Float, Date\n",
    "\n",
    "# create base classes\n",
    "class Measurements(Base):\n",
    "    __tablename__ = 'measurements'\n",
    "    meas_id = Column(Integer, primary_key=True)\n",
    "    station = Column(String(255))\n",
    "    date = Column(Date)\n",
    "    prcp = Column(Float)\n",
    "    tobs = Column(Float)\n",
    "\n",
    "class Stations(Base):\n",
    "    __tablename__ = 'stations'\n",
    "    id = Column(Integer, primary_key=True)\n",
    "    station = Column(String(255))\n",
    "    name = Column(String(255))\n",
    "    latitude = Column(Float)\n",
    "    longitude = Column(Float)\n",
    "    elevation = Column(Float)\n",
    "\n",
    "#create sqlite engine\n",
    "engine = create_engine(\"sqlite:///hawaii.sqlite\")\n",
    "\n",
    "#add metadata to tables\n",
    "Base.metadata.create_all(engine)\n",
    "\n",
    "#append data from csv created df to correct classes(tables)\n",
    "measurements_df.to_sql('measurements', engine, if_exists='append', index=False)\n",
    "\n",
    "stations_df.to_sql('stations', engine, if_exists='append', index=False)\n",
    "\n",
    "# unneccesary ?\n",
    "from sqlalchemy.orm import Session\n",
    "session = Session(bind=engine)\n",
    "\n",
    "session.commit()"
   ]
  }
 ],
 "metadata": {
  "kernelspec": {
   "display_name": "Python 3",
   "language": "python",
   "name": "python3"
  },
  "language_info": {
   "codemirror_mode": {
    "name": "ipython",
    "version": 3
   },
   "file_extension": ".py",
   "mimetype": "text/x-python",
   "name": "python",
   "nbconvert_exporter": "python",
   "pygments_lexer": "ipython3",
   "version": "3.6.1"
  }
 },
 "nbformat": 4,
 "nbformat_minor": 2
}
